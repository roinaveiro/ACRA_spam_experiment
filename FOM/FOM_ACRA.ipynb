{
 "cells": [
  {
   "cell_type": "markdown",
   "metadata": {},
   "source": [
    "# A practical introduction to ACRA\n",
    "\n",
    "FOM Seminars, by D. Rios, V. Gallego, R. Naveiro.\n",
    "\n",
    "\n",
    "* More info at https://github.com/roinaveiro/ACRA_spam_experiment"
   ]
  },
  {
   "cell_type": "code",
   "execution_count": 1,
   "metadata": {
    "collapsed": true
   },
   "outputs": [],
   "source": [
    "import pandas as pd\n",
    "import numpy as np\n",
    "from acra_tools import *\n",
    "import time\n",
    "from joblib import Parallel, delayed\n",
    "import multiprocessing\n",
    "from sklearn.metrics import confusion_matrix, accuracy_score\n",
    "import matplotlib.pyplot as plt\n",
    "%matplotlib inline\n",
    "np.random.seed(3215)"
   ]
  },
  {
   "cell_type": "markdown",
   "metadata": {},
   "source": [
    "Ilustraremos el marco ACRA utilizando un ejemplo sencillo de detección de SPAM. Primero leemos el dataset"
   ]
  },
  {
   "cell_type": "code",
   "execution_count": 2,
   "metadata": {},
   "outputs": [
    {
     "data": {
      "text/html": [
       "<div>\n",
       "<style>\n",
       "    .dataframe thead tr:only-child th {\n",
       "        text-align: right;\n",
       "    }\n",
       "\n",
       "    .dataframe thead th {\n",
       "        text-align: left;\n",
       "    }\n",
       "\n",
       "    .dataframe tbody tr th {\n",
       "        vertical-align: top;\n",
       "    }\n",
       "</style>\n",
       "<table border=\"1\" class=\"dataframe\">\n",
       "  <thead>\n",
       "    <tr style=\"text-align: right;\">\n",
       "      <th></th>\n",
       "      <th>word_make</th>\n",
       "      <th>word_address</th>\n",
       "      <th>word_all</th>\n",
       "      <th>word_3d</th>\n",
       "      <th>word_our</th>\n",
       "      <th>word_over</th>\n",
       "      <th>word_remove</th>\n",
       "      <th>word_internet</th>\n",
       "      <th>word_order</th>\n",
       "      <th>word_mail</th>\n",
       "      <th>...</th>\n",
       "      <th>word_edu</th>\n",
       "      <th>word_table</th>\n",
       "      <th>word_conference</th>\n",
       "      <th>char_</th>\n",
       "      <th>char_(</th>\n",
       "      <th>char_[</th>\n",
       "      <th>char_!</th>\n",
       "      <th>char_$</th>\n",
       "      <th>char_#</th>\n",
       "      <th>spam</th>\n",
       "    </tr>\n",
       "  </thead>\n",
       "  <tbody>\n",
       "    <tr>\n",
       "      <th>0</th>\n",
       "      <td>0</td>\n",
       "      <td>1</td>\n",
       "      <td>1</td>\n",
       "      <td>0</td>\n",
       "      <td>1</td>\n",
       "      <td>0</td>\n",
       "      <td>0</td>\n",
       "      <td>0</td>\n",
       "      <td>0</td>\n",
       "      <td>0</td>\n",
       "      <td>...</td>\n",
       "      <td>0</td>\n",
       "      <td>0</td>\n",
       "      <td>0</td>\n",
       "      <td>0</td>\n",
       "      <td>0</td>\n",
       "      <td>0</td>\n",
       "      <td>1</td>\n",
       "      <td>0</td>\n",
       "      <td>0</td>\n",
       "      <td>1</td>\n",
       "    </tr>\n",
       "    <tr>\n",
       "      <th>1</th>\n",
       "      <td>1</td>\n",
       "      <td>1</td>\n",
       "      <td>1</td>\n",
       "      <td>0</td>\n",
       "      <td>1</td>\n",
       "      <td>1</td>\n",
       "      <td>1</td>\n",
       "      <td>1</td>\n",
       "      <td>0</td>\n",
       "      <td>1</td>\n",
       "      <td>...</td>\n",
       "      <td>0</td>\n",
       "      <td>0</td>\n",
       "      <td>0</td>\n",
       "      <td>0</td>\n",
       "      <td>1</td>\n",
       "      <td>0</td>\n",
       "      <td>1</td>\n",
       "      <td>1</td>\n",
       "      <td>1</td>\n",
       "      <td>1</td>\n",
       "    </tr>\n",
       "    <tr>\n",
       "      <th>2</th>\n",
       "      <td>1</td>\n",
       "      <td>0</td>\n",
       "      <td>1</td>\n",
       "      <td>0</td>\n",
       "      <td>1</td>\n",
       "      <td>1</td>\n",
       "      <td>1</td>\n",
       "      <td>1</td>\n",
       "      <td>1</td>\n",
       "      <td>1</td>\n",
       "      <td>...</td>\n",
       "      <td>1</td>\n",
       "      <td>0</td>\n",
       "      <td>0</td>\n",
       "      <td>1</td>\n",
       "      <td>1</td>\n",
       "      <td>0</td>\n",
       "      <td>1</td>\n",
       "      <td>1</td>\n",
       "      <td>1</td>\n",
       "      <td>1</td>\n",
       "    </tr>\n",
       "    <tr>\n",
       "      <th>3</th>\n",
       "      <td>0</td>\n",
       "      <td>0</td>\n",
       "      <td>0</td>\n",
       "      <td>0</td>\n",
       "      <td>1</td>\n",
       "      <td>0</td>\n",
       "      <td>1</td>\n",
       "      <td>1</td>\n",
       "      <td>1</td>\n",
       "      <td>1</td>\n",
       "      <td>...</td>\n",
       "      <td>0</td>\n",
       "      <td>0</td>\n",
       "      <td>0</td>\n",
       "      <td>0</td>\n",
       "      <td>1</td>\n",
       "      <td>0</td>\n",
       "      <td>1</td>\n",
       "      <td>0</td>\n",
       "      <td>0</td>\n",
       "      <td>1</td>\n",
       "    </tr>\n",
       "    <tr>\n",
       "      <th>4</th>\n",
       "      <td>0</td>\n",
       "      <td>0</td>\n",
       "      <td>0</td>\n",
       "      <td>0</td>\n",
       "      <td>1</td>\n",
       "      <td>0</td>\n",
       "      <td>1</td>\n",
       "      <td>1</td>\n",
       "      <td>1</td>\n",
       "      <td>1</td>\n",
       "      <td>...</td>\n",
       "      <td>0</td>\n",
       "      <td>0</td>\n",
       "      <td>0</td>\n",
       "      <td>0</td>\n",
       "      <td>1</td>\n",
       "      <td>0</td>\n",
       "      <td>1</td>\n",
       "      <td>0</td>\n",
       "      <td>0</td>\n",
       "      <td>1</td>\n",
       "    </tr>\n",
       "  </tbody>\n",
       "</table>\n",
       "<p>5 rows × 55 columns</p>\n",
       "</div>"
      ],
      "text/plain": [
       "   word_make  word_address  word_all  word_3d  word_our  word_over  \\\n",
       "0          0             1         1        0         1          0   \n",
       "1          1             1         1        0         1          1   \n",
       "2          1             0         1        0         1          1   \n",
       "3          0             0         0        0         1          0   \n",
       "4          0             0         0        0         1          0   \n",
       "\n",
       "   word_remove  word_internet  word_order  word_mail  ...   word_edu  \\\n",
       "0            0              0           0          0  ...          0   \n",
       "1            1              1           0          1  ...          0   \n",
       "2            1              1           1          1  ...          1   \n",
       "3            1              1           1          1  ...          0   \n",
       "4            1              1           1          1  ...          0   \n",
       "\n",
       "   word_table  word_conference  char_  char_(  char_[  char_!  char_$  char_#  \\\n",
       "0           0                0      0       0       0       1       0       0   \n",
       "1           0                0      0       1       0       1       1       1   \n",
       "2           0                0      1       1       0       1       1       1   \n",
       "3           0                0      0       1       0       1       0       0   \n",
       "4           0                0      0       1       0       1       0       0   \n",
       "\n",
       "   spam  \n",
       "0     1  \n",
       "1     1  \n",
       "2     1  \n",
       "3     1  \n",
       "4     1  \n",
       "\n",
       "[5 rows x 55 columns]"
      ]
     },
     "execution_count": 2,
     "metadata": {},
     "output_type": "execute_result"
    }
   ],
   "source": [
    "data = pd.read_csv(\"data/uciData.csv\")\n",
    "data.head()"
   ]
  },
  {
   "cell_type": "markdown",
   "metadata": {},
   "source": [
    "Los mails se representan utilizando *bag-of-words*, es decir; un uno indica que la palabra/caracter correspondiente está presente, y un cero que está ausente.\n",
    "\n",
    "Creamos conjunto de train y test."
   ]
  },
  {
   "cell_type": "code",
   "execution_count": 3,
   "metadata": {
    "collapsed": true
   },
   "outputs": [],
   "source": [
    "X = data.drop(\"spam\", axis=1).values\n",
    "y = data.spam.values\n",
    "q = 0.10   #Porcentaje de datos para test\n",
    "X_train, X_test, y_train, y_test = train_test_split(X, y, test_size=q)"
   ]
  },
  {
   "cell_type": "markdown",
   "metadata": {},
   "source": [
    "Utilizaremos como clasificador base Naïve-Bayes\n",
    "\n",
    "<img src=\"nb.png\">"
   ]
  },
  {
   "cell_type": "code",
   "execution_count": 4,
   "metadata": {
    "collapsed": true
   },
   "outputs": [],
   "source": [
    "clf = trainRawNB(X_train, y_train) "
   ]
  },
  {
   "cell_type": "markdown",
   "metadata": {},
   "source": [
    "Como trabajamos con **Utility-Sensitive Naïve Bayes**, necesitamos una matriz de utilidades"
   ]
  },
  {
   "cell_type": "code",
   "execution_count": 5,
   "metadata": {},
   "outputs": [
    {
     "data": {
      "text/plain": [
       "array([[ 1, -1],\n",
       "       [-5,  1]])"
      ]
     },
     "execution_count": 5,
     "metadata": {},
     "output_type": "execute_result"
    }
   ],
   "source": [
    "ut = np.array([[1,-1],[-5,1]])\n",
    "ut"
   ]
  },
  {
   "cell_type": "markdown",
   "metadata": {},
   "source": [
    "La utilidad de clasificar un email legítimo como spam tiene que ser muy negativa, ya que no es deseable! Veamos qué tal lo hace Naïve-Bayes **datos limpios**."
   ]
  },
  {
   "cell_type": "code",
   "execution_count": 6,
   "metadata": {},
   "outputs": [
    {
     "name": "stdout",
     "output_type": "stream",
     "text": [
      "Matriz de confusión: \n",
      "  [[259  16]\n",
      " [ 42 144]]\n",
      "Precisión 0.8741865509761388\n"
     ]
    }
   ],
   "source": [
    "y_pred = nbusXlabel(X_test, clf, ut) # devuelve la etiqueta dada una matriz de utilidad\n",
    "print( \"Matriz de confusión: \\n \", confusion_matrix(y_test, y_pred))\n",
    "print( \"Precisión\", accuracy_score(y_test, y_pred))"
   ]
  },
  {
   "cell_type": "markdown",
   "metadata": {},
   "source": [
    "Con muy poco esfuerzo, conseguimos un clasificador decente. Pero veamos si es robusto frente ataques adversarios. Nos vamos a restringir a ataques muy sencillos. Consisten tan solo en añadir una palabra *buena*. Veremos que estos ataques tan sencillos son enormemente dañinos. Esta función implementa un ataque, resolviendo el problema del atacante, maximizando su utilidad. El atacante solo puede cambiar los emails que son spam"
   ]
  },
  {
   "cell_type": "code",
   "execution_count": 7,
   "metadata": {
    "collapsed": true
   },
   "outputs": [],
   "source": [
    "X_test_atacked = sc_attack(X_test, y_test, clf, n = 1) ## n=1 indica que se inserta una palabra buena"
   ]
  },
  {
   "cell_type": "code",
   "execution_count": 10,
   "metadata": {},
   "outputs": [
    {
     "name": "stdout",
     "output_type": "stream",
     "text": [
      "Matriz de confusión: \n",
      "  [[259  16]\n",
      " [167  19]]\n",
      "Precisión 0.6030368763557483\n"
     ]
    }
   ],
   "source": [
    "y_pred_attacked = nbusXlabel(X_test_atacked, clf, ut) # devuelve la etiqueta dada una matriz de utilidad\n",
    "print( \"Matriz de confusión: \\n \", confusion_matrix(y_test, y_pred_attacked))\n",
    "print( \"Precisión\", accuracy_score(y_test, y_pred_attacked))"
   ]
  },
  {
   "cell_type": "markdown",
   "metadata": {},
   "source": [
    "Vemos que la precisión disminuye enormemente! Como podemos apreciar, tan solo añadiendo una palabra buena, el atacante consigue que muchos emails spam, sean clasificados como legítimos. Estos ataques se denomina **ataques de violación de integridad**"
   ]
  },
  {
   "cell_type": "code",
   "execution_count": 11,
   "metadata": {},
   "outputs": [
    {
     "data": {
      "text/plain": [
       "'word_fundacion_ortega_marañon\\n'"
      ]
     },
     "execution_count": 11,
     "metadata": {},
     "output_type": "execute_result"
    }
   ],
   "source": [
    "aux = X_test_atacked[y_pred != y_pred_attacked] - X_test[y_pred != y_pred_attacked]\n",
    "mode = np.argmax( np.bincount( np.where(aux[:,:] == 1)[1] ) )\n",
    "data.columns[mode]"
   ]
  },
  {
   "cell_type": "markdown",
   "metadata": {},
   "source": [
    "En efecto, la proporción de emails spam en los que aparece **Fundación Ortega Marañón** es minima! Es decir, fundación ortega marañón es una palabra buena. No espereis recibir spam de la FOM..."
   ]
  },
  {
   "cell_type": "code",
   "execution_count": 12,
   "metadata": {},
   "outputs": [
    {
     "data": {
      "text/plain": [
       "0.0003586800573888092"
      ]
     },
     "execution_count": 12,
     "metadata": {},
     "output_type": "execute_result"
    }
   ],
   "source": [
    "len(data[(data.spam == 1) & (data[data.columns[mode]] == 1) ]) / len(data[data.spam == 0])"
   ]
  },
  {
   "cell_type": "markdown",
   "metadata": {},
   "source": [
    "Veamos cóm se defiende ACRA frente a este ataque. Primero definimos unos parámetros de interés"
   ]
  },
  {
   "cell_type": "code",
   "execution_count": 13,
   "metadata": {
    "collapsed": true
   },
   "outputs": [],
   "source": [
    "var = 0.1 # variance parameter\n",
    "m = 0.01 # mc size\n",
    "n = 1 # tamaño ataques"
   ]
  },
  {
   "cell_type": "code",
   "execution_count": 14,
   "metadata": {
    "collapsed": true
   },
   "outputs": [],
   "source": [
    "tic = time.time()\n",
    "result = getParResults(y_test, X_test_atacked, clf, ut, var, n, m)\n",
    "y_ACRA = result[:,2]\n"
   ]
  },
  {
   "cell_type": "code",
   "execution_count": 15,
   "metadata": {},
   "outputs": [
    {
     "name": "stdout",
     "output_type": "stream",
     "text": [
      "Matriz de confusión: \n",
      "  [[273   2]\n",
      " [ 41 145]]\n",
      "Precisión 0.9067245119305857\n"
     ]
    }
   ],
   "source": [
    "print( \"Matriz de confusión: \\n \", confusion_matrix(y_test, y_ACRA))\n",
    "print( \"Precisión\", accuracy_score(y_test, y_ACRA))"
   ]
  },
  {
   "cell_type": "markdown",
   "metadata": {},
   "source": [
    "ACRA recupera es robusto frente a estos ataques. Es más, consigue operar mejor que NaÏve Bayes sobre datos limpios. Este efecto tiene que ver con las defensas contra ejemplos adversarios actúan como regularizadores. Efecto también observado en Goodfellow(2014)\n",
    "\n",
    "Explaining and Harnessing Adversarial Examples\n",
    "Ian J. Goodfellow, Jonathon Shlens, Christian Szegedy\n",
    "https://arxiv.org/abs/1412.6572"
   ]
  },
  {
   "cell_type": "markdown",
   "metadata": {},
   "source": [
    "Veamos cómo son las predicciones de ACRA sobre las acciones del enemigo. Escogemos un mail, y vemos cuál es la palabra que decide añadir el adversario."
   ]
  },
  {
   "cell_type": "code",
   "execution_count": 16,
   "metadata": {},
   "outputs": [
    {
     "name": "stdout",
     "output_type": "stream",
     "text": [
      "Palabra añadida:  word_fundacion_ortega_marañon\n",
      "\n"
     ]
    }
   ],
   "source": [
    "Xp =  X_test[y_test == 1][5]\n",
    "print(\"Palabra añadida: \", data.columns[np.where(Xp != sc_attackit(Xp, 1, clf, n))[0]][0] )"
   ]
  },
  {
   "cell_type": "markdown",
   "metadata": {},
   "source": [
    "Calculamos la distribución de probabilidad, de acuerdo con el clasificador, sobre la palabra añadida y la representamos gráficamente"
   ]
  },
  {
   "cell_type": "code",
   "execution_count": 17,
   "metadata": {},
   "outputs": [
    {
     "data": {
      "image/png": "[encoded data removed]",
      "text/plain": [
       "<matplotlib.figure.Figure at 0x7fa48ea8beb8>"
      ]
     },
     "metadata": {},
     "output_type": "display_data"
    }
   ],
   "source": [
    "K = 1000 #número de muestras MC\n",
    "var = 10**(-2)\n",
    "dist = getporbs(Xp, Xp, clf, 0.01, n, K )\n",
    "\n",
    "frequencies = dist[1][1:]/K\n",
    "freq_series = pd.Series.from_array(frequencies)\n",
    "\n",
    "x_labels = data.columns[np.where(Xp != dist[0][:])[1]]\n",
    "\n",
    "# Plot the figure.\n",
    "plt.figure(figsize=(12, 8))\n",
    "ax = freq_series.plot(kind='bar')\n",
    "ax.set_xlabel('Added Word')\n",
    "ax.set_ylabel('Frequency')\n",
    "ax.set_xticklabels(x_labels)\n",
    "plt.ylim(0,1)\n",
    "rects = ax.patches\n",
    "\n",
    "# Make some labels.\n",
    "labels = [\"label%d\" % i for i in range(len(rects))]\n",
    "\n",
    "\n",
    "    \n",
    "plt.show()"
   ]
  },
  {
   "cell_type": "markdown",
   "metadata": {},
   "source": [
    "Si disminuimos el grado de conocimiento que el clasificador tiene sobre el adversario, tendremos más incertidumbre acerca de sus movimientos."
   ]
  },
  {
   "cell_type": "code",
   "execution_count": 18,
   "metadata": {},
   "outputs": [
    {
     "data": {
      "image/png": "[encoded data removed]",
      "text/plain": [
       "<matplotlib.figure.Figure at 0x7fa48ea8b438>"
      ]
     },
     "metadata": {},
     "output_type": "display_data"
    }
   ],
   "source": [
    "K = 1000 #número de muestras MC\n",
    "var = 1-10**(-5)\n",
    "dist = getporbs(Xp, Xp, clf, 0.99999999, n, K )\n",
    "\n",
    "frequencies = dist[1][1:]/K\n",
    "freq_series = pd.Series.from_array(frequencies)\n",
    "\n",
    "x_labels = data.columns[np.where(Xp != dist[0][:])[1]]\n",
    "\n",
    "# Plot the figure.\n",
    "plt.figure(figsize=(12, 8))\n",
    "ax = freq_series.plot(kind='bar')\n",
    "ax.set_xlabel('Added Word')\n",
    "ax.set_ylabel('Frequency')\n",
    "ax.set_xticklabels(x_labels)\n",
    "\n",
    "plt.ylim(0,1)\n",
    "rects = ax.patches\n",
    "\n",
    "# Make some labels.\n",
    "labels = [\"label%d\" % i for i in range(len(rects))]\n",
    "\n",
    "\n",
    "    \n",
    "plt.show()"
   ]
  },
  {
   "cell_type": "code",
   "execution_count": null,
   "metadata": {
    "collapsed": true
   },
   "outputs": [],
   "source": []
  }
 ],
 "metadata": {
  "kernelspec": {
   "display_name": "Python 3",
   "language": "python",
   "name": "python3"
  },
  "language_info": {
   "codemirror_mode": {
    "name": "ipython",
    "version": 3
   },
   "file_extension": ".py",
   "mimetype": "text/x-python",
   "name": "python",
   "nbconvert_exporter": "python",
   "pygments_lexer": "ipython3",
   "version": "3.6.1"
  }
 },
 "nbformat": 4,
 "nbformat_minor": 2
}
